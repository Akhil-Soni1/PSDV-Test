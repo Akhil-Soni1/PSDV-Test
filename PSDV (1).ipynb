{
 "cells": [
  {
   "cell_type": "markdown",
   "id": "a960852d-147f-4586-a566-19a60e9811ee",
   "metadata": {},
   "source": [
    "### Question 1"
   ]
  },
  {
   "cell_type": "code",
   "execution_count": 11,
   "id": "799eb4f2-e739-47bf-b1a5-696e65d171da",
   "metadata": {},
   "outputs": [
    {
     "name": "stdout",
     "output_type": "stream",
     "text": [
      "Sum of even numbers= 110\n",
      "Product of odd numbers= 654729075\n",
      "Mean= 10.5\n",
      "Median= 10.5\n",
      "Standard deviation= 5.766281297335398\n"
     ]
    }
   ],
   "source": [
    "l=[1,2,3,4,5,6,7,8,9,10,11,12,13,14,15,16,17,18,19,20]\n",
    "e=0\n",
    "o=1\n",
    "s=0\n",
    "\n",
    "for i in l:\n",
    "    s+=i\n",
    "    if i%2==0:\n",
    "        e+=i\n",
    "    else:\n",
    "        o*=i\n",
    "print(\"Sum of even numbers=\",e)\n",
    "print(\"Product of odd numbers=\",o)\n",
    "mean=s/20\n",
    "print(\"Mean=\",mean)\n",
    "if len(l)%2==0:\n",
    "    median=(l[len(l)//2]+l[(len(l)//2)-1])/2\n",
    "else:\n",
    "    median=l[((len(l)+1)//2)-1]\n",
    "print(\"Median=\",median)\n",
    "std=((((len(l))**2)-1)/12)**0.5\n",
    "print(\"Standard deviation=\",std)"
   ]
  },
  {
   "cell_type": "markdown",
   "id": "5a9940ef-9fbf-4040-a129-031bac38dcdf",
   "metadata": {},
   "source": [
    "### Question 2"
   ]
  },
  {
   "cell_type": "code",
   "execution_count": null,
   "id": "dd39514a-e9e0-4618-b847-dd7244e83b54",
   "metadata": {},
   "outputs": [],
   "source": [
    "\n",
    "# Mutable Data Types:\n",
    "#Anything is said to be mutable when anything can be modified or changed.These are frequently the things that hold a data collection.\n",
    "\n",
    "#Examples:\n",
    "\n",
    "#Lists\n",
    "#Dictionaries\n",
    "#Sets\n",
    "\n",
    "#Immutable Data Types:\n",
    "#Immutable refers to a state in which no change can occur over time.The value of these Python objects is fixed once they are made.\n",
    "\n",
    "#Examples:\n",
    "\n",
    "#Numbers (Integer, Float, Complex, Decimal, Rational & Booleans)\n",
    "#Tuples\n",
    "#Strings\n",
    "#Frozen Sets"
   ]
  },
  {
   "cell_type": "markdown",
   "id": "63e0ceb2-453a-4bef-ab91-41454f22eaa0",
   "metadata": {},
   "source": [
    "### Question 3"
   ]
  },
  {
   "cell_type": "code",
   "execution_count": 7,
   "id": "8f692b8d",
   "metadata": {
    "scrolled": true
   },
   "outputs": [
    {
     "name": "stdin",
     "output_type": "stream",
     "text": [
      " 10\n"
     ]
    },
    {
     "name": "stdout",
     "output_type": "stream",
     "text": [
      "[1, 1, 2, 3, 5, 8, 13, 21, 34, 55]\n"
     ]
    },
    {
     "data": {
      "image/png": "[encoded data removed]",
      "text/plain": [
       "<Figure size 640x480 with 1 Axes>"
      ]
     },
     "metadata": {},
     "output_type": "display_data"
    }
   ],
   "source": [
    "import matplotlib.pyplot as plt\n",
    "def fun(n):\n",
    "    if n==0:\n",
    "        return(0)\n",
    "    elif n==1:\n",
    "        return(1)\n",
    "    else:\n",
    "        return(fun(n-1)+fun(n-2))\n",
    "n=int(input())#input=10\n",
    "l=[]\n",
    "for i in range(1,n+1):\n",
    "    l.append(fun(i))\n",
    "print(l)\n",
    "x=[]\n",
    "for i in range(1,n+1):\n",
    "    x.append(i)\n",
    "plt.xlabel(\"n\")\n",
    "plt.title(\"Fibonacci Sequence\")\n",
    "plt.ylabel(\"Fibonacci number\")\n",
    "plt.plot(x,l)\n",
    "plt.show()"
   ]
  },
  {
   "cell_type": "markdown",
   "id": "fc06c18a-3890-4f8b-abb2-cb7178fc87e6",
   "metadata": {},
   "source": [
    "### Question 4"
   ]
  },
  {
   "cell_type": "code",
   "execution_count": 5,
   "id": "29b2413b-0d51-48ec-b8c7-9d01d980b11a",
   "metadata": {},
   "outputs": [
    {
     "name": "stdout",
     "output_type": "stream",
     "text": [
      "Mean= 7.833333333333333\n",
      "Median= 7.5\n"
     ]
    }
   ],
   "source": [
    "l=[3,5,7,9,11,13]\n",
    "a=[]\n",
    "b=[]\n",
    "for i in range(2):\n",
    "    a.append(l[i])\n",
    "for i in range(2,6):\n",
    "    b.append(l[i])\n",
    "c=a+[6]+b\n",
    "c.pop(3)\n",
    "c.reverse()\n",
    "s=0\n",
    "for i in c:\n",
    "    s+=i\n",
    "mean=s/len(c)\n",
    "print(\"Mean=\",mean)\n",
    "if len(c)%2==0:\n",
    "    median=(c[(len(c)//2)-1]+c[len(c)//2])/2\n",
    "else:\n",
    "    median=c[(len(c)-1)//2]\n",
    "print(\"Median=\",median)"
   ]
  },
  {
   "cell_type": "markdown",
   "id": "570c7017-f49d-417e-a8e6-e8deacacff74",
   "metadata": {},
   "source": [
    "### Question 5"
   ]
  },
  {
   "cell_type": "code",
   "execution_count": 1,
   "id": "7ebb10c3-449c-4c83-b6ed-4797f92b7430",
   "metadata": {},
   "outputs": [
    {
     "name": "stdin",
     "output_type": "stream",
     "text": [
      " 10,20,30\n"
     ]
    },
    {
     "name": "stdout",
     "output_type": "stream",
     "text": [
      "Mean= 20.0\n",
      "Smallest no.= 10\n",
      "Largest no.= 30\n"
     ]
    }
   ],
   "source": [
    "a=list(map(int,input().split(\",\"))) #10,20,30\n",
    "s=0\n",
    "for i in a:\n",
    "    s+=i\n",
    "mean=s/len(a)\n",
    "print(\"Mean=\",mean)\n",
    "print(\"Smallest no.=\",min(a))\n",
    "print(\"Largest no.=\",max(a))\n",
    "\n"
   ]
  },
  {
   "cell_type": "markdown",
   "id": "019b110e-167f-4951-8df4-d8eb90182752",
   "metadata": {},
   "source": [
    "### Question 6"
   ]
  },
  {
   "cell_type": "code",
   "execution_count": 10,
   "id": "7a6aaaa7-f90e-4322-b591-c9fe6e290c51",
   "metadata": {},
   "outputs": [
    {
     "name": "stdin",
     "output_type": "stream",
     "text": [
      " A man a plan a canal Panama\n"
     ]
    },
    {
     "name": "stdout",
     "output_type": "stream",
     "text": [
      "True\n"
     ]
    }
   ],
   "source": [
    "l=str(input()) #A man a plan a canal Panama\n",
    "a=[]\n",
    "for i in l:\n",
    "    if i!=\" \":\n",
    "        a.append(i)\n",
    "b=[s.lower() for s in a]\n",
    "c=0\n",
    "if len(b)%2==0:\n",
    "    for i in range((len(b)//2)):\n",
    "        if b[i]==b[len(b)-1-i]:\n",
    "            c+=1\n",
    "    if c==(len(b)//2):\n",
    "        print(True)\n",
    "    else:\n",
    "        print(False)\n",
    "else:\n",
    "    for i in range((len(b)-1)//2):\n",
    "        if b[i]==b[len(b)-1-i]:\n",
    "            c+=1\n",
    "    if c==((len(b)-1)//2):\n",
    "        print(True)\n",
    "    else:\n",
    "        print(False)\n"
   ]
  },
  {
   "cell_type": "markdown",
   "id": "21e6b455-5e99-470f-8221-11a1b27d067b",
   "metadata": {},
   "source": [
    "### Question 7"
   ]
  },
  {
   "cell_type": "code",
   "execution_count": 14,
   "id": "d474cfdb-2421-4ee6-836b-87b9580873ca",
   "metadata": {},
   "outputs": [
    {
     "name": "stdout",
     "output_type": "stream",
     "text": [
      "64.6\n",
      "Neer Akh "
     ]
    }
   ],
   "source": [
    "clas={\"Ram\": 42, \"Akshay\":27, \"Neer\": 99, \"Akh\": 100, \"Amar\": 55}\n",
    "s=0\n",
    "l=list(clas.values())\n",
    "for i in l:\n",
    "    s+=i\n",
    "avg=s/len(l)\n",
    "print(avg)\n",
    "for key, val in clas.items():\n",
    "    if val>avg:\n",
    "        print(key,end=\" \")\n",
    "    \n"
   ]
  },
  {
   "cell_type": "markdown",
   "id": "85d86a8d-d58e-4190-be1a-231618ad451e",
   "metadata": {},
   "source": [
    "### Question 8"
   ]
  },
  {
   "cell_type": "code",
   "execution_count": 13,
   "id": "58bfaf17-f412-4bbf-8628-184770050984",
   "metadata": {},
   "outputs": [
    {
     "name": "stdout",
     "output_type": "stream",
     "text": [
      "[(1, 1), (2, 4), (3, 9), (4, 16), (5, 25), (6, 36), (7, 49), (8, 64), (9, 81), (10, 100)]\n"
     ]
    }
   ],
   "source": [
    "l=[]\n",
    "for i in range(1,11):\n",
    "    a=(i,i**2)\n",
    "    l.append(a)\n",
    "print(l)"
   ]
  },
  {
   "cell_type": "markdown",
   "id": "5a103e11-cb26-4ff3-84ff-b5a9a8ba4ebf",
   "metadata": {},
   "source": [
    "### Question 10"
   ]
  },
  {
   "cell_type": "code",
   "execution_count": 9,
   "id": "cc9d4ae2-065d-4790-ab05-52bec6337215",
   "metadata": {},
   "outputs": [
    {
     "name": "stdin",
     "output_type": "stream",
     "text": [
      " AFSHVshxvHGdbcsuhcbsxgcGxcgsuGGXCSC\n"
     ]
    },
    {
     "name": "stdout",
     "output_type": "stream",
     "text": [
      "{'x': 4, 'c': 6, 'b': 2, 'h': 4, 's': 6, 'u': 2, 'd': 1, 'a': 1, 'v': 2, 'f': 1, 'g': 6}\n"
     ]
    }
   ],
   "source": [
    "a=str(input())#AFSHVshxvHGdbcsuhcbsxgcGxcgsuGGXCSC\n",
    "l=list(a.lower())\n",
    "def count(n,l):\n",
    "    c=0\n",
    "    for i in l:\n",
    "        if n==i:\n",
    "            c+=1\n",
    "    return c\n",
    "b=set(l)\n",
    "dict={}\n",
    "for i in b:\n",
    "    dict[i]=count(i,l)\n",
    "print(dict)\n",
    "    \n",
    "    \n",
    "    \n",
    "    "
   ]
  },
  {
   "cell_type": "markdown",
   "id": "a0e0ee6d-8e8e-4068-a558-485ec83c5be6",
   "metadata": {},
   "source": [
    "### Question 11"
   ]
  },
  {
   "cell_type": "code",
   "execution_count": 4,
   "id": "92f90d3c-b8c8-4ce1-acc3-a625ba3aef97",
   "metadata": {},
   "outputs": [
    {
     "name": "stdin",
     "output_type": "stream",
     "text": [
      " 40 40 40 20 20 20 30 30 10 10\n"
     ]
    },
    {
     "name": "stdout",
     "output_type": "stream",
     "text": [
      "[40, 20, 30, 10]\n"
     ]
    }
   ],
   "source": [
    "def rem(l):\n",
    "    s= set()\n",
    "    r= []\n",
    "    for i in l:\n",
    "        if i not in s:\n",
    "            r.append(i)\n",
    "            s.add(i)\n",
    "    return r\n",
    "l=list(map(int,input().split())) #40 40 40 20 20 20 30 30 10 10\n",
    "l1 = rem(l)\n",
    "print(l1)  "
   ]
  },
  {
   "cell_type": "markdown",
   "id": "2805a9e3-ab80-459b-a876-d41b9d694040",
   "metadata": {},
   "source": [
    "### Question 12"
   ]
  },
  {
   "cell_type": "code",
   "execution_count": 2,
   "id": "71a1e51f-c7dc-4d6c-90ea-0a2376e1707c",
   "metadata": {},
   "outputs": [
    {
     "name": "stdin",
     "output_type": "stream",
     "text": [
      " adf,sdfg,Sfyvd,Edhsbsj\n"
     ]
    },
    {
     "name": "stdout",
     "output_type": "stream",
     "text": [
      "Longest string= Edhsbsj\n",
      "No. of strings starting with a vowel= 2\n"
     ]
    }
   ],
   "source": [
    "l=list(map(str,input().split(\",\")))#adf,sdfg,Sfyvd,Edhsbsj\n",
    "a=0\n",
    "largest=\"\"\n",
    "for i in l:\n",
    "    if len(i)>len(largest):\n",
    "        largest= i\n",
    "print(\"Longest string=\",largest)\n",
    "\n",
    "b=[s.lower() for s in l]\n",
    "t=0\n",
    "o=[\"a\",\"e\",\"i\",\"o\",\"u\"]\n",
    "k=[]\n",
    "for i in b:\n",
    "    for j in i:\n",
    "        k.append(j)\n",
    "        for m in o:\n",
    "            if k[0]==m:\n",
    "                t+=1\n",
    "        k.pop(0)\n",
    "print(\"No. of strings starting with a vowel=\",t)"
   ]
  },
  {
   "cell_type": "markdown",
   "id": "4dadaf63-f700-4dff-94f4-5d2595675f18",
   "metadata": {},
   "source": [
    "### Question 14"
   ]
  },
  {
   "cell_type": "code",
   "execution_count": 30,
   "id": "8d3ff0fd-1023-417a-adeb-a1055619e676",
   "metadata": {},
   "outputs": [
    {
     "name": "stdin",
     "output_type": "stream",
     "text": [
      " Cricket is the best sport in the world\n"
     ]
    },
    {
     "name": "stdout",
     "output_type": "stream",
     "text": [
      "List of words= ['Cricket', 'is', 'the', 'best', 'sport', 'in', 'the', 'world']\n",
      "List without words shorter than 4 letters= ['Cricket', 'best', 'sport', 'world']\n"
     ]
    }
   ],
   "source": [
    "s=str(input())\n",
    "l=list(map(str,s.split())) #Cricket is the best sport in the world\n",
    "print(\"List of words=\",l)\n",
    "k=[]\n",
    "for i in l:\n",
    "    if len(i)>=4:\n",
    "        k.append(i)\n",
    "print(\"List without words shorter than 4 letters=\",k)\n",
    "\n",
    "\n",
    "    "
   ]
  },
  {
   "cell_type": "markdown",
   "id": "2f64cb73-1b0d-4919-834c-7c8868c28fa0",
   "metadata": {},
   "source": [
    "### Question 15"
   ]
  },
  {
   "cell_type": "code",
   "execution_count": 37,
   "id": "09b16488-a1fc-4438-a1b9-f8242cf39481",
   "metadata": {},
   "outputs": [
    {
     "name": "stdin",
     "output_type": "stream",
     "text": [
      "Word= listen\n",
      "Words= enlist inlets banana\n"
     ]
    },
    {
     "name": "stdout",
     "output_type": "stream",
     "text": [
      "Anagrams of word= ['enlist', 'inlets']\n"
     ]
    }
   ],
   "source": [
    "w=str(input(\"Word=\")) #listen\n",
    "l=list(map(str,input(\"Words=\").split())) #enlist inlets banana\n",
    "s=0\n",
    "a=[]\n",
    "for i in l:\n",
    "    for j in i:\n",
    "        for k in w:\n",
    "            if k==j:\n",
    "                s+=1\n",
    "    if len(i)==s:\n",
    "        a.append(i)\n",
    "    s-=len(i)\n",
    "print(\"Anagrams of word=\",a)"
   ]
  },
  {
   "cell_type": "markdown",
   "id": "b5b35dca-1617-4d9c-84c9-8397eb563c72",
   "metadata": {},
   "source": [
    "### Question 16"
   ]
  },
  {
   "cell_type": "code",
   "execution_count": 41,
   "id": "648c10eb-a00b-4b1e-9d40-bc66ae8e76bc",
   "metadata": {},
   "outputs": [
    {
     "name": "stdin",
     "output_type": "stream",
     "text": [
      " 1,2,3,4,5\n",
      " 3,4,5,6\n"
     ]
    },
    {
     "name": "stdout",
     "output_type": "stream",
     "text": [
      "Union of the lists= [1, 2, 3, 4, 5, 6]\n",
      "Intersection= [3, 4, 5]\n",
      "Symmetric Difference= [1, 2, 6]\n"
     ]
    }
   ],
   "source": [
    "l1=list(map(int,input().split(\",\")))# 1,2,3,4,5\n",
    "l2=list(map(int,input().split(\",\")))#3,4,5,6\n",
    "a=l1+l2\n",
    "b=set(a)\n",
    "c=list(b)\n",
    "print(\"Union of the lists=\",c)\n",
    "inter=[]\n",
    "for i in l1:\n",
    "    for j in l2:\n",
    "        if i==j:\n",
    "            inter.append(j)\n",
    "print(\"Intersection=\",inter)\n",
    "sym=[]\n",
    "for i in inter:\n",
    "    c.remove(i)\n",
    "print(\"Symmetric Difference=\",c)\n",
    "            "
   ]
  },
  {
   "cell_type": "markdown",
   "id": "f3080feb-5664-4f15-9983-97fd0a124d11",
   "metadata": {},
   "source": [
    "### Question 18"
   ]
  },
  {
   "cell_type": "code",
   "execution_count": 4,
   "id": "5ebd668d-4144-4ca7-8a34-48a821d53f9a",
   "metadata": {
    "scrolled": true
   },
   "outputs": [
    {
     "name": "stdout",
     "output_type": "stream",
     "text": [
      "No. of words= 120\n"
     ]
    }
   ],
   "source": [
    "file=open(\"Main.txt\",\"r\")\n",
    "content=file.read()\n",
    "words=list(map(str,content.split()))\n",
    "print(\"No. of words=\",len(words))"
   ]
  },
  {
   "cell_type": "markdown",
   "id": "7f845ae0-e6b3-4935-b116-cabe33467072",
   "metadata": {},
   "source": [
    "### Question 21"
   ]
  },
  {
   "cell_type": "code",
   "execution_count": 2,
   "id": "9f218621-6978-4bc6-85f7-e8e71c8cf1eb",
   "metadata": {},
   "outputs": [
    {
     "name": "stdin",
     "output_type": "stream",
     "text": [
      " 2 3 4 5 6 7\n"
     ]
    },
    {
     "name": "stdout",
     "output_type": "stream",
     "text": [
      "Mean= 4.5\n",
      "Median= 4.5\n",
      "Standard deviation= 1.8708286933869707\n"
     ]
    }
   ],
   "source": [
    "l=list(map(int,input().split()))#2 3 4 5 6 7\n",
    "s=0\n",
    "for i in l:\n",
    "    s+=i\n",
    "mean=s/len(l)\n",
    "print(\"Mean=\",mean)\n",
    "if len(l)%2==0:\n",
    "    median=(l[len(l)//2]+l[(len(l)//2)-1])/2\n",
    "else:\n",
    "    median=l[((len(l)+1)//2)-1]\n",
    "print(\"Median=\",median)\n",
    "A=0\n",
    "for i in l:\n",
    "    A+=(i-mean)**2\n",
    "std=(A/(len(l)-1))**0.5\n",
    "print(\"Standard deviation=\",std)\n",
    "\n"
   ]
  },
  {
   "cell_type": "markdown",
   "id": "5513b81d-5bb5-47b5-8b7a-54794536e354",
   "metadata": {},
   "source": [
    "### Question 23"
   ]
  },
  {
   "cell_type": "code",
   "execution_count": 3,
   "id": "2450678f-aa0c-41ee-8a95-a3a39eb7c57f",
   "metadata": {},
   "outputs": [
    {
     "name": "stdin",
     "output_type": "stream",
     "text": [
      " 5\n"
     ]
    },
    {
     "name": "stdout",
     "output_type": "stream",
     "text": [
      "Odd\n"
     ]
    }
   ],
   "source": [
    "n=int(input())#5\n",
    "if n%2==0:\n",
    "    print(\"Even\")\n",
    "else:\n",
    "    print(\"Odd\")"
   ]
  },
  {
   "cell_type": "markdown",
   "id": "cd853717-5baa-4fd5-a24c-c377791b80f3",
   "metadata": {},
   "source": [
    "### Question 22"
   ]
  },
  {
   "cell_type": "code",
   "execution_count": 10,
   "id": "b595e117-f88a-4f44-8785-ad1e8a7a4dfc",
   "metadata": {},
   "outputs": [
    {
     "name": "stdin",
     "output_type": "stream",
     "text": [
      " 24 36 27 83 92 12\n"
     ]
    },
    {
     "name": "stdout",
     "output_type": "stream",
     "text": [
      "[0.15, 0.3, 0.1875, 0.8875, 1.0, 0.0]\n"
     ]
    }
   ],
   "source": [
    "l=list(map(int,input().split()))#24 36 27 83 92 12\n",
    "ln=[]\n",
    "for i in l:\n",
    "    a=(i-min(l))/(max(l)-min(l))\n",
    "    ln.append(a)\n",
    "print(ln)\n",
    "            \n",
    "            \n",
    "            \n",
    "        "
   ]
  },
  {
   "cell_type": "markdown",
   "id": "0481977b-e1d0-4734-8d65-0847279f4584",
   "metadata": {},
   "source": [
    "### Question 24"
   ]
  },
  {
   "cell_type": "code",
   "execution_count": 4,
   "id": "7ec5da61-19a7-4a8d-a7ec-23a299f43f48",
   "metadata": {},
   "outputs": [
    {
     "name": "stdin",
     "output_type": "stream",
     "text": [
      " 34\n"
     ]
    },
    {
     "name": "stdout",
     "output_type": "stream",
     "text": [
      "F\n"
     ]
    }
   ],
   "source": [
    "#Question 24\n",
    "n=int(input())#34\n",
    "if 85<n<=100:\n",
    "    print(\"A\")\n",
    "elif 70<n<=85:\n",
    "    print(\"B\")\n",
    "elif 60<n<=70:\n",
    "    print(\"C\")\n",
    "elif 45<n<=60:\n",
    "    print(\"D\")\n",
    "elif 0<=n<=45:\n",
    "    print(\"F\")\n"
   ]
  },
  {
   "cell_type": "markdown",
   "id": "9fe5486d-b510-48fa-9603-4906d632c603",
   "metadata": {},
   "source": [
    "### Question 25"
   ]
  },
  {
   "cell_type": "code",
   "execution_count": 5,
   "id": "db5a4bff-b630-4a8e-b33f-f400e417622d",
   "metadata": {},
   "outputs": [
    {
     "name": "stdin",
     "output_type": "stream",
     "text": [
      " 2024\n"
     ]
    },
    {
     "name": "stdout",
     "output_type": "stream",
     "text": [
      "Leap year\n"
     ]
    }
   ],
   "source": [
    "n=int(input())#2024\n",
    "if n%100==0 and n%400!=0:\n",
    "    print(\"Leap year\")\n",
    "elif n%4==0:\n",
    "    print(\"Leap year\")"
   ]
  }
 ],
 "metadata": {
  "kernelspec": {
   "display_name": "Python 3 (ipykernel)",
   "language": "python",
   "name": "python3"
  },
  "language_info": {
   "codemirror_mode": {
    "name": "ipython",
    "version": 3
   },
   "file_extension": ".py",
   "mimetype": "text/x-python",
   "name": "python",
   "nbconvert_exporter": "python",
   "pygments_lexer": "ipython3",
   "version": "3.12.5"
  }
 },
 "nbformat": 4,
 "nbformat_minor": 5
}
